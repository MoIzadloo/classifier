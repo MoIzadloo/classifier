{
 "cells": [
  {
   "cell_type": "markdown",
   "metadata": {},
   "source": [
    "# Perceptron\n",
    "\n",
    "A perceptron is a fundamental building block of artificial neural networks. It is a simple, single-layer artificial neuron that takes one or more inputs, applies a weighted sum of the inputs, and then applies a threshold to the result. This threshold determines whether the perceptron fires an output of 1 or 0."
   ]
  },
  {
   "cell_type": "markdown",
   "metadata": {},
   "source": [
    "## Dependencies"
   ]
  },
  {
   "cell_type": "code",
   "execution_count": 181,
   "metadata": {},
   "outputs": [],
   "source": [
    "import numpy as np\n",
    "import matplotlib.pyplot as plt"
   ]
  },
  {
   "cell_type": "markdown",
   "metadata": {},
   "source": [
    "## Generate Datasets\n",
    "\n",
    "Generating linearly separable datasets and label them"
   ]
  },
  {
   "cell_type": "code",
   "execution_count": 182,
   "metadata": {},
   "outputs": [],
   "source": [
    "num_points = 50  # Number of points to generate\n",
    "num_features = 2  # Number of features for each point (e.g., x and y coordinates)\n",
    "\n",
    "# Create two classes with distinct means and variances\n",
    "class_means = [[-0.5, -0.5], [2.5, 2.5]]  # Means for classes 1 and 2\n",
    "class_stds = [[0.7, 0.5], [1.5, 1.0]]  # Standard deviations for classes 1 and 2\n",
    "\n",
    "# Generate points for each class\n",
    "y1 = np.random.normal(loc=class_means[0], scale=class_stds[0], size=(num_points // 2, num_features))\n",
    "y2 = np.random.normal(loc=class_means[1], scale=class_stds[1], size=(num_points // 2, num_features))\n",
    "\n",
    "# Concatenating both classes\n",
    "points = np.concatenate([y1, y2])\n",
    "\n",
    "# Create labels for class 1\n",
    "labels_1 = np.ones((num_points // 2), dtype=int)\n",
    "\n",
    "# Create labels for class 2\n",
    "labels_2 = np.zeros((num_points // 2), dtype=int)\n",
    "\n",
    "# Combine labels for both classes\n",
    "labels = np.concatenate((labels_1, labels_2))"
   ]
  },
  {
   "cell_type": "markdown",
   "metadata": {},
   "source": [
    "# Defining Core Functions"
   ]
  },
  {
   "cell_type": "code",
   "execution_count": 183,
   "metadata": {},
   "outputs": [],
   "source": [
    "def drawLine(weight, bias):\n",
    "    \"\"\"\n",
    "    Draws a linear line based on the given weight and bias parameters.\n",
    "\n",
    "    Args:\n",
    "        weight (float): Represents the slope of the line.\n",
    "        bias (float): Represents the y-intercept.\n",
    "\n",
    "    Returns:\n",
    "        None\n",
    "    \"\"\"\n",
    "    r = range(-2, 5)\n",
    "    points = []\n",
    "    for x in r:\n",
    "        points.append([x, lineeEuation(x, weight, bias)])\n",
    "    points = np.array(points)\n",
    "    plt.plot(points[:, 0], points[:, 1])\n",
    "\n",
    "def lineeEuation(x, weight, bias):\n",
    "    \"\"\"\n",
    "    Calculates the linear equation value for the given input x.\n",
    "\n",
    "    Args:\n",
    "        weight (float): Represents the slope of the line.\n",
    "        bias (float): Represents the y-intercept.\n",
    "\n",
    "    Returns:\n",
    "        float: The predicted value for the given input x.\n",
    "    \"\"\"\n",
    "    return weight * x + bias\n",
    "\n",
    "def classify(x, weight, bias):\n",
    "    \"\"\"\n",
    "    Performs classification using the linear equation and the given weight and bias.\n",
    "\n",
    "    Args:\n",
    "        x (float): Input data point.\n",
    "        weight (float): Represents the slope of the line.\n",
    "        bias (float): Represents the y-intercept.\n",
    "\n",
    "    Returns:\n",
    "        int: The predicted class label (0 or 1).\n",
    "    \"\"\"\n",
    "    y = weight * x + bias\n",
    "    if y > 0:\n",
    "        return 1\n",
    "    else:\n",
    "        return 0\n",
    "\n",
    "def error(y, pred):\n",
    "    \"\"\"\n",
    "    Calculates the error between the actual and predicted values.\n",
    "\n",
    "    Args:\n",
    "        y (float): Actual value.\n",
    "        pred (float): Predicted value.\n",
    "\n",
    "    Returns:\n",
    "        float: The difference between the actual and predicted values.\n",
    "    \"\"\"\n",
    "    return y - pred\n",
    "\n",
    "def fixedIncrement(x, r, weight, bias, c):\n",
    "    \"\"\"\n",
    "    Updates the weights and biases using the fixed-increment learning rule.\n",
    "\n",
    "    Args:\n",
    "        x (float): Input data point.\n",
    "        r (int): Target class label.\n",
    "        weight (float): Represents the slope of the line.\n",
    "        bias (float): Represents the y-intercept.\n",
    "        c (float): Learning rate.\n",
    "\n",
    "    Returns:\n",
    "        list: A list containing the updated weights and biases.\n",
    "    \"\"\"\n",
    "    pred = lineeEuation(x, weight, bias)\n",
    "    p = classify(x, weight, bias)\n",
    "    if p == r:\n",
    "        return [weight, bias]\n",
    "    else:\n",
    "        if p <= 0:\n",
    "            return [weight + c * pred, bias]\n",
    "        else:\n",
    "            return [weight - c * pred, bias]\n",
    "\n",
    "def train(points, labels, w , b, alpha, optimizer = fixedIncrement):\n",
    "    \"\"\"\n",
    "    Trains the perceptron model using the given training data and learning rate.\n",
    "\n",
    "    Args:\n",
    "        points (list): List of data points with (x, y) pairs.\n",
    "        labels (list): List of corresponding labels (0 or 1).\n",
    "        w (float): Initial weight.\n",
    "        b (float): Initial bias.\n",
    "        alpha (float): Learning rate.\n",
    "        optimizer (function): Function used to update weights and biases.\n",
    "\n",
    "    Returns:\n",
    "        list: A list containing the final weights, biases, and mean error.\n",
    "    \"\"\"\n",
    "    \n",
    "    nw = w\n",
    "    nb = b\n",
    "    meanE = 0\n",
    "    for i, p in enumerate(points):\n",
    "        meanE += error(labels[i], lineeEuation(p[0], nw, nb))\n",
    "        nw, nb = optimizer(p[0], labels[i], nw, nb, alpha)\n",
    "    return nw, nb, meanE / len(points)\n"
   ]
  },
  {
   "cell_type": "markdown",
   "metadata": {},
   "source": [
    "# Plot The Initial State"
   ]
  },
  {
   "cell_type": "code",
   "execution_count": 184,
   "metadata": {},
   "outputs": [
    {
     "data": {
      "image/png": "[encoded data removed]",
      "text/plain": [
       "<Figure size 640x480 with 1 Axes>"
      ]
     },
     "metadata": {},
     "output_type": "display_data"
    }
   ],
   "source": [
    "w = 0.4\n",
    "b = 0\n",
    "t = 0\n",
    "\n",
    "plt.plot(y1[:, 0], y1[:, 1], 'o')\n",
    "plt.plot(y2[:, 0], y2[:, 1], 'o')\n",
    "line = drawLine(w, b)\n"
   ]
  },
  {
   "cell_type": "markdown",
   "metadata": {},
   "source": [
    "# Training\n",
    "\n",
    "Train and calculate mean loss"
   ]
  },
  {
   "cell_type": "markdown",
   "metadata": {},
   "source": [
    "#### Using Fixed-Increment\n",
    "\n",
    "The fixed-increment learning rule is a simple and widely used algorithm for training perceptrons, which are a type of artificial neural network that can classify data into two categories. The rule adjusts the weights and biases of the perceptron model in a direction that minimizes the error of the model's predictions.\n",
    "\n",
    "Key steps:\n",
    "1. Predict the class label for a given input data point.\n",
    "2. Calculate the error by comparing the predicted class label to the actual class label.\n",
    "3. Adjust the weights and biases by multiplying the error by a constant factor (learning rate) and adding the result to the weights and biases.\n",
    "4. Repeat the process for each data point in the training set.\n",
    "\n",
    "Advantages: \n",
    "- Simple\n",
    "- Efficient for small datasets\n",
    "- Versatile with various activation functions\n",
    "\n",
    "Disadvantages:\n",
    "- Inefficient for large datasets\n",
    "- May not converge for all problems\n",
    "- Sensitive to learning rate\n",
    "\n",
    "Overall:\n",
    "\n",
    "Simple and effective for small to medium-sized datasets, good for low-accuracy tasks with manageable datasets"
   ]
  },
  {
   "cell_type": "code",
   "execution_count": 185,
   "metadata": {},
   "outputs": [
    {
     "name": "stdout",
     "output_type": "stream",
     "text": [
      "[ i ] Mean Error 0.6037074024078045\n"
     ]
    },
    {
     "data": {
      "image/png": "[encoded data removed]",
      "text/plain": [
       "<Figure size 640x480 with 1 Axes>"
      ]
     },
     "metadata": {},
     "output_type": "display_data"
    }
   ],
   "source": [
    "\n",
    "epoch = 1 # Number of training epochs\n",
    "MeanError = 0 # Initialize mean error to 0\n",
    "\n",
    "for i in range(epoch):\n",
    "    # Train the perceptron model for one epoch\n",
    "    w , b, MeanError = train(points, labels, w, b, 1)\n",
    "\n",
    "print(f\"[ i ] Mean Error {MeanError}\")\n",
    "plt.plot(y1[:, 0], y1[:, 1], 'o')\n",
    "plt.plot(y2[:, 0], y2[:, 1], 'o')\n",
    "line = drawLine(w, b)\n",
    "\n",
    "plt.show()"
   ]
  },
  {
   "cell_type": "markdown",
   "metadata": {},
   "source": [
    "# Test\n",
    "\n",
    "Test our model with new input"
   ]
  },
  {
   "cell_type": "code",
   "execution_count": 186,
   "metadata": {},
   "outputs": [
    {
     "name": "stdout",
     "output_type": "stream",
     "text": [
      "0\n"
     ]
    }
   ],
   "source": [
    "#Given a data point x = 2, classify it using the trained perceptron model\n",
    "print(classify(2, w, b))"
   ]
  }
 ],
 "metadata": {
  "kernelspec": {
   "display_name": ".venv",
   "language": "python",
   "name": "python3"
  },
  "language_info": {
   "codemirror_mode": {
    "name": "ipython",
    "version": 3
   },
   "file_extension": ".py",
   "mimetype": "text/x-python",
   "name": "python",
   "nbconvert_exporter": "python",
   "pygments_lexer": "ipython3",
   "version": "3.11.4"
  }
 },
 "nbformat": 4,
 "nbformat_minor": 2
}
